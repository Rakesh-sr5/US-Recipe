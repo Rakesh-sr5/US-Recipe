{
 "cells": [
  {
   "cell_type": "code",
   "execution_count": null,
   "id": "b0f23885",
   "metadata": {},
   "outputs": [
    {
     "name": "stdout",
     "output_type": "stream",
     "text": [
      " * Serving Flask app '__main__'\n",
      " * Debug mode: off\n"
     ]
    },
    {
     "name": "stderr",
     "output_type": "stream",
     "text": [
      "WARNING: This is a development server. Do not use it in a production deployment. Use a production WSGI server instead.\n",
      " * Running on http://127.0.0.1:5000\n",
      "Press CTRL+C to quit\n",
      "127.0.0.1 - - [08/Sep/2025 15:33:05] \"GET / HTTP/1.1\" 200 -\n"
     ]
    }
   ],
   "source": [
    "from flask import Flask,request\n",
    "import sqlite3\n",
    "app = Flask(__name__)\n",
    "Database = \"C:/Users/rakes/Downloads/recipe.db\"\n",
    "@app.route('/')\n",
    "def start():\n",
    "  conn = sqlite3.connect(Database)\n",
    "  c = conn.cursor()\n",
    "  c.execute(\"SELECT * FROM recipes ORDER BY rating DESC\")\n",
    "  out = c.fetchmany(10)\n",
    "  return out\n",
    "if __name__==\"__main__\":\n",
    "  app.run()"
   ]
  }
 ],
 "metadata": {
  "kernelspec": {
   "display_name": "Python 3",
   "language": "python",
   "name": "python3"
  },
  "language_info": {
   "codemirror_mode": {
    "name": "ipython",
    "version": 3
   },
   "file_extension": ".py",
   "mimetype": "text/x-python",
   "name": "python",
   "nbconvert_exporter": "python",
   "pygments_lexer": "ipython3",
   "version": "3.12.3"
  }
 },
 "nbformat": 4,
 "nbformat_minor": 5
}
